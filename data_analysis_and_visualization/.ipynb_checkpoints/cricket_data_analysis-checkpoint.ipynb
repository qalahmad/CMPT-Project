{
 "cells": [
  {
   "cell_type": "code",
   "execution_count": null,
   "id": "32971174-87b3-4687-a8b2-d6b12223b839",
   "metadata": {},
   "outputs": [],
   "source": [
    "import pandas as pd\n",
    "import numpy as np\n",
    "import seaborn as sns\n",
    "import matplotlib.pyplot as plt\n",
    "from scipy.stats import ttest_ind\n",
    "\n",
    "# Load datasets\n",
    "batting_df = pd.read_csv(\"fact_batting_summary.csv\")\n",
    "bowling_df = pd.read_csv(\"fact_bowling_summary.csv\")\n",
    "players_df = pd.read_csv(\"dim_players.csv\")\n",
    "matches_df = pd.read_csv(\"dim_match_summary.csv\")\n",
    "\n",
    "\n",
    "# Data Cleaning\n",
    "# Removing players with less than 3 innings\n",
    "batting_counts = batting_df['batsmanName'].value_counts()\n",
    "batting_df = batting_df[batting_df['batsmanName'].isin(batting_counts[batting_counts >= 3].index)]\n",
    "\n",
    "bowling_counts = bowling_df['bowlerName'].value_counts()\n",
    "bowling_df = bowling_df[bowling_df['bowlerName'].isin(bowling_counts[bowling_counts >= 3].index)]\n",
    "\n",
    "# Exploratory Data Analysis (EDA)\n",
    "plt.figure(figsize=(10,5))\n",
    "sns.histplot(batting_df['SR'], bins=30, kde=True)\n",
    "plt.title(\"Distribution of Strike Rates\")\n",
    "plt.show()\n",
    "\n",
    "plt.figure(figsize=(10,5))\n",
    "sns.histplot(bowling_df['economy'], bins=30, kde=True)\n",
    "plt.title(\"Distribution of Economy Rates\")\n",
    "plt.show()\n",
    "\n",
    "# Hypothesis Testing: Compare Openers vs. Other Batsmen based on Strike Rate\n",
    "openers = batting_df[batting_df['battingPos'] <= 2]['SR']\n",
    "other_batsmen = batting_df[batting_df['battingPos'] > 2]['SR']\n",
    "t_stat, p_val = ttest_ind(openers, other_batsmen)\n",
    "print(f\"T-Test Results: t-statistic={t_stat}, p-value={p_val}\")\n",
    "\n",
    "# Compare Bowlers’ Economy Rate Between Teams\n",
    "team1_bowlers = bowling_df[bowling_df['bowlingTeam'] == 'Namibia']['economy']\n",
    "team2_bowlers = bowling_df[bowling_df['bowlingTeam'] == 'Sri Lanka']['economy']\n",
    "t_stat, p_val = ttest_ind(team1_bowlers, team2_bowlers)\n",
    "print(f\"Bowling Economy Rate Comparison: t-statistic={t_stat}, p-value={p_val}\")\n",
    "\n",
    "# Visualization - Correlation Heatmap\n",
    "plt.figure(figsize=(8,6))\n",
    "sns.heatmap(batting_df[['runs', 'balls', '4s', '6s', 'SR']].corr(), annot=True, cmap='coolwarm')\n",
    "plt.title(\"Correlation Heatmap - Batting\")\n",
    "plt.show()\n"
   ]
  }
 ],
 "metadata": {
  "kernelspec": {
   "display_name": "Python 3 (ipykernel)",
   "language": "python",
   "name": "python3"
  },
  "language_info": {
   "codemirror_mode": {
    "name": "ipython",
    "version": 3
   },
   "file_extension": ".py",
   "mimetype": "text/x-python",
   "name": "python",
   "nbconvert_exporter": "python",
   "pygments_lexer": "ipython3",
   "version": "3.12.4"
  }
 },
 "nbformat": 4,
 "nbformat_minor": 5
}
